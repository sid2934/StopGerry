{
    "metadata": {
        "kernelspec": {
            "name": "SQL",
            "display_name": "SQL",
            "language": "sql"
        },
        "language_info": {
            "name": "sql",
            "version": ""
        }
    },
    "nbformat_minor": 2,
    "nbformat": 4,
    "cells": [
        {
            "cell_type": "markdown",
            "source": [
                ""
            ],
            "metadata": {
                "azdata_cell_guid": "1d62f04f-078c-4c81-b9b3-0587bd91a645"
            }
        },
        {
            "cell_type": "code",
            "source": [
                "-- CREATE SCHEMA [Election];\r\n",
                "-- GO"
            ],
            "metadata": {
                "azdata_cell_guid": "b91fe814-c93f-4497-93d4-63af00908aba",
                "tags": [
                    "hide_input"
                ]
            },
            "outputs": [
                {
                    "output_type": "display_data",
                    "data": {
                        "text/html": "Commands completed successfully."
                    },
                    "metadata": {}
                },
                {
                    "output_type": "display_data",
                    "data": {
                        "text/html": "Total execution time: 00:00:00.001"
                    },
                    "metadata": {}
                }
            ],
            "execution_count": 204
        },
        {
            "cell_type": "code",
            "source": [
                "-- Create a new table called '[Election_Type]' in schema '[Election]'\r\n",
                "-- Drop the table if it already exists\r\n",
                "IF OBJECT_ID('[Election].[Election_Type]', 'U') IS NOT NULL\r\n",
                "DROP TABLE [Election].[Election_Type]\r\n",
                "GO\r\n",
                "-- Create the table in the specified schema\r\n",
                "CREATE TABLE [Election].[Election_Type]\r\n",
                "(\r\n",
                "    [Id] INT NOT NULL IDENTITY(1,1) PRIMARY KEY, -- Primary Key column\r\n",
                "    [Description] NVARCHAR(50) NOT NULL,\r\n",
                ");\r\n",
                "GO\r\n",
                "\r\n",
                ""
            ],
            "metadata": {
                "azdata_cell_guid": "cf9c105f-1532-4ffc-ba0d-4a1c98500c77",
                "tags": [
                    "hide_input"
                ]
            },
            "outputs": [
                {
                    "output_type": "display_data",
                    "data": {
                        "text/html": "Commands completed successfully."
                    },
                    "metadata": {}
                },
                {
                    "output_type": "display_data",
                    "data": {
                        "text/html": "Commands completed successfully."
                    },
                    "metadata": {}
                },
                {
                    "output_type": "display_data",
                    "data": {
                        "text/html": "Total execution time: 00:00:00.020"
                    },
                    "metadata": {}
                }
            ],
            "execution_count": 205
        },
        {
            "cell_type": "code",
            "source": [
                "-- Create a new table called '[County_Election]' in schema '[Election]'\r\n",
                "-- Drop the table if it already exists\r\n",
                "IF OBJECT_ID('[Election].[County_Election]', 'U') IS NOT NULL\r\n",
                "DROP TABLE [Election].[County_Election]\r\n",
                "GO\r\n",
                "-- Create the table in the specified schema\r\n",
                "CREATE TABLE [Election].[County_Election]\r\n",
                "(\r\n",
                "    [Id] UNIQUEIDENTIFIER DEFAULT NEWID() PRIMARY KEY, -- Primary Key column\r\n",
                "    [CountyId] nvarchar(50) NOT NULL,\r\n",
                "    [Description] NVARCHAR(255) NOT NULL,\r\n",
                "    [ElectionDate] DATE NOT NULL,\r\n",
                "    [ElectionTypeId] INT NOT NULL\r\n",
                "\r\n",
                "    CONSTRAINT [FK_ElectionType_CountyElection] FOREIGN KEY ([ElectionTypeId])  REFERENCES [Election].[Election_Type]([Id]),\r\n",
                "    CONSTRAINT [FK_County_CountyElection] FOREIGN KEY ([CountyId])  REFERENCES [Location].[County]([Id])\r\n",
                ");\r\n",
                "GO"
            ],
            "metadata": {
                "azdata_cell_guid": "d6727a96-6211-465a-9e99-45a5e5881d24",
                "tags": [
                    "hide_input"
                ]
            },
            "outputs": [
                {
                    "output_type": "display_data",
                    "data": {
                        "text/html": "Commands completed successfully."
                    },
                    "metadata": {}
                },
                {
                    "output_type": "display_data",
                    "data": {
                        "text/html": "Commands completed successfully."
                    },
                    "metadata": {}
                },
                {
                    "output_type": "display_data",
                    "data": {
                        "text/html": "Total execution time: 00:00:00.018"
                    },
                    "metadata": {}
                }
            ],
            "execution_count": 206
        },
        {
            "cell_type": "code",
            "source": [
                "-- Create a new table called '[Position_Level]' in schema '[Election]'\r\n",
                "-- Drop the table if it already exists\r\n",
                "IF OBJECT_ID('[Election].[Position_Level]', 'U') IS NOT NULL\r\n",
                "DROP TABLE [Election].[Position_Level]\r\n",
                "GO\r\n",
                "-- Create the table in the specified schema\r\n",
                "CREATE TABLE [Election].[Position_Level]\r\n",
                "(\r\n",
                "    [Id] INT NOT NULL IDENTITY(1,1) PRIMARY KEY, -- Primary Key column\r\n",
                "    [Description] NVARCHAR(50) NOT NULL,\r\n",
                "\r\n",
                "\r\n",
                ");\r\n",
                "GO\r\n",
                "\r\n",
                "-- Insert rows into table 'Position_Level' in schema '[Election]'\r\n",
                "INSERT INTO [Election].[Position_Level]\r\n",
                "( -- Columns to insert data into\r\n",
                "    [Description]\r\n",
                ")\r\n",
                "VALUES\r\n",
                "(\r\n",
                "    'National'\r\n",
                "),\r\n",
                "(\r\n",
                "    'State'\r\n",
                "),\r\n",
                "(\r\n",
                "    'County'\r\n",
                "),\r\n",
                "(\r\n",
                "    'Unknown'\r\n",
                ")\r\n",
                "GO\r\n",
                "\r\n",
                ""
            ],
            "metadata": {
                "azdata_cell_guid": "b1722242-6f78-4468-81cf-6dd0eddc7964",
                "tags": [
                    "hide_input"
                ]
            },
            "outputs": [
                {
                    "output_type": "display_data",
                    "data": {
                        "text/html": "Commands completed successfully."
                    },
                    "metadata": {}
                },
                {
                    "output_type": "display_data",
                    "data": {
                        "text/html": "Commands completed successfully."
                    },
                    "metadata": {}
                },
                {
                    "output_type": "display_data",
                    "data": {
                        "text/html": "(4 rows affected)"
                    },
                    "metadata": {}
                },
                {
                    "output_type": "display_data",
                    "data": {
                        "text/html": "Total execution time: 00:00:00.015"
                    },
                    "metadata": {}
                }
            ],
            "execution_count": 207
        },
        {
            "cell_type": "code",
            "source": [
                "-- Create a new table called '[Race_Type]' in schema '[Election]'\r\n",
                "-- Drop the table if it already exists\r\n",
                "IF OBJECT_ID('[Election].[Race_Type]', 'U') IS NOT NULL\r\n",
                "DROP TABLE [Election].[Race_Type]\r\n",
                "GO\r\n",
                "-- Create the table in the specified schema\r\n",
                "CREATE TABLE [Election].[Race_Type]\r\n",
                "(\r\n",
                "    [Id] INT NOT NULL IDENTITY(1,1) PRIMARY KEY, -- Primary Key column\r\n",
                "    [Description] NVARCHAR(50) NOT NULL,\r\n",
                "    [PositionLevelId] INT NOT NULL,\r\n",
                "\r\n",
                "    CONSTRAINT [FK_PositionLevel_RaceType] FOREIGN KEY ([PositionLevelId])  REFERENCES [Election].[Position_Level]([Id])\r\n",
                ");\r\n",
                "GO\r\n",
                "\r\n",
                "-- Insert rows into table 'Race_Type' in schema '[Election]'\r\n",
                "INSERT INTO [Election].[Race_Type]\r\n",
                "( -- Columns to insert data into\r\n",
                "    [Description], [PositionLevelId]\r\n",
                ")\r\n",
                "VALUES\r\n",
                "(\r\n",
                "    'President of the United States of America', 1\r\n",
                "),\r\n",
                "( -- First row: values for the columns in the list above\r\n",
                "    'United State Senate', 1\r\n",
                "),\r\n",
                "( -- Second row: values for the columns in the list above\r\n",
                "    'United State House of Representatives', 1\r\n",
                "),\r\n",
                "(\r\n",
                "    'Governor', 2\r\n",
                "),\r\n",
                "(\r\n",
                "    'State Senate', 2\r\n",
                "),\r\n",
                "(\r\n",
                "    'State House of Representatives', 2\r\n",
                ")\r\n",
                "-- Add more rows here\r\n",
                "GO"
            ],
            "metadata": {
                "azdata_cell_guid": "67867c67-1bfa-4d8e-ae7e-3b898de3a5a2",
                "tags": [
                    "hide_input"
                ]
            },
            "outputs": [
                {
                    "output_type": "display_data",
                    "data": {
                        "text/html": "Commands completed successfully."
                    },
                    "metadata": {}
                },
                {
                    "output_type": "display_data",
                    "data": {
                        "text/html": "Commands completed successfully."
                    },
                    "metadata": {}
                },
                {
                    "output_type": "display_data",
                    "data": {
                        "text/html": "(6 rows affected)"
                    },
                    "metadata": {}
                },
                {
                    "output_type": "display_data",
                    "data": {
                        "text/html": "Total execution time: 00:00:00.030"
                    },
                    "metadata": {}
                }
            ],
            "execution_count": 208
        },
        {
            "cell_type": "code",
            "source": [
                "-- Create a new table called '[Race]' in schema '[Election]'\r\n",
                "-- Drop the table if it already exists\r\n",
                "IF OBJECT_ID('[Election].[Race]', 'U') IS NOT NULL\r\n",
                "DROP TABLE [Election].[Race]\r\n",
                "GO\r\n",
                "-- Create the table in the specified schema\r\n",
                "CREATE TABLE [Election].[Race]\r\n",
                "(\r\n",
                "    [Id] UNIQUEIDENTIFIER DEFAULT NEWID() PRIMARY KEY, -- Primary Key column\r\n",
                "    [CountyElectionId] UNIQUEIDENTIFIER NOT NULL,\r\n",
                "    [RaceTypeId] INT NOT NULL,\r\n",
                "\r\n",
                "    CONSTRAINT [FK_CountyElection_Race] FOREIGN KEY ([CountyElectionId])  REFERENCES [Election].[County_Election]([Id]),\r\n",
                "    CONSTRAINT [FK_RaceType_Race] FOREIGN KEY ([RaceTypeId])  REFERENCES [Election].[Race_Type]([Id])\r\n",
                ");\r\n",
                "GO"
            ],
            "metadata": {
                "azdata_cell_guid": "20dd87de-4eea-4e21-ba20-4256ed5548f6",
                "tags": []
            },
            "outputs": [
                {
                    "output_type": "display_data",
                    "data": {
                        "text/html": "Commands completed successfully."
                    },
                    "metadata": {}
                },
                {
                    "output_type": "display_data",
                    "data": {
                        "text/html": "Commands completed successfully."
                    },
                    "metadata": {}
                },
                {
                    "output_type": "display_data",
                    "data": {
                        "text/html": "Total execution time: 00:00:00.009"
                    },
                    "metadata": {}
                }
            ],
            "execution_count": 209
        },
        {
            "cell_type": "code",
            "source": [
                "-- Create a new table called '[Voter_Turnout]' in schema '[Election]'\r\n",
                "-- Drop the table if it already exists\r\n",
                "IF OBJECT_ID('[Election].[Voter_Turnout]', 'U') IS NOT NULL\r\n",
                "DROP TABLE [Election].[Voter_Turnout]\r\n",
                "GO\r\n",
                "-- Create the table in the specified schema\r\n",
                "CREATE TABLE [Election].[Voter_Turnout]\r\n",
                "(\r\n",
                "    [Id] UNIQUEIDENTIFIER DEFAULT NEWID() PRIMARY KEY, -- Primary Key column\r\n",
                "    [RegisteredVoters] INT NOT NULL,\r\n",
                "    [TotalVoters] INT NULL,\r\n",
                "    [RaceId] UNIQUEIDENTIFIER NOT NULL,\r\n",
                "\r\n",
                "    CONSTRAINT [FK_Race_VoterTurnout] FOREIGN KEY ([RaceId])  REFERENCES [Election].[Race]([Id])\r\n",
                ");\r\n",
                "GO"
            ],
            "metadata": {
                "azdata_cell_guid": "09353fcc-339d-4c75-900f-2ad7bd558e52",
                "tags": [
                    "hide_input"
                ]
            },
            "outputs": [
                {
                    "output_type": "display_data",
                    "data": {
                        "text/html": "Commands completed successfully."
                    },
                    "metadata": {}
                },
                {
                    "output_type": "display_data",
                    "data": {
                        "text/html": "Commands completed successfully."
                    },
                    "metadata": {}
                },
                {
                    "output_type": "display_data",
                    "data": {
                        "text/html": "Total execution time: 00:00:00.009"
                    },
                    "metadata": {}
                }
            ],
            "execution_count": 210
        },
        {
            "cell_type": "code",
            "source": [
                "-- Create a new table called '[Party]' in schema '[Election]'\r\n",
                "-- Drop the table if it already exists\r\n",
                "IF OBJECT_ID('[Election].[Party]', 'U') IS NOT NULL\r\n",
                "DROP TABLE [Election].[Party]\r\n",
                "GO\r\n",
                "-- Create the table in the specified schema\r\n",
                "CREATE TABLE [Election].[Party]\r\n",
                "(\r\n",
                "    [Id] INT NOT NULL IDENTITY(1,1) PRIMARY KEY, -- Primary Key column\r\n",
                "    [Name] NVARCHAR(50) NOT NULL,\r\n",
                "    [Abbreviation] NVARCHAR(5) NULL\r\n",
                ");\r\n",
                "GO\r\n",
                "\r\n",
                "-- Insert rows into table 'Party' in schema '[Election]'\r\n",
                "INSERT INTO [Election].[Party]\r\n",
                "( -- Columns to insert data into\r\n",
                " [Name], [Abbreviation]\r\n",
                ")\r\n",
                "VALUES\r\n",
                "( -- First row: values for the columns in the list above\r\n",
                "    'Democratic Party', 'D'\r\n",
                "),\r\n",
                "( -- Second row: values for the columns in the list above\r\n",
                "    'Republic Party', 'R'\r\n",
                "),\r\n",
                "( -- Second row: values for the columns in the list above\r\n",
                "    'Libertarian Party', 'L'\r\n",
                "),\r\n",
                "(\r\n",
                "    'Green Party', 'G'\r\n",
                "),\r\n",
                "(\r\n",
                "    'Vermont Progressive Party', 'VPP'\r\n",
                "),\r\n",
                "(\r\n",
                "    'Working Families Party', 'WFP'\r\n",
                "),\r\n",
                "(   \r\n",
                "    'Independence Party of New York', 'IPNY'\r\n",
                "),\r\n",
                "(\r\n",
                "    'Reform Party', 'RP'\r\n",
                ")\r\n",
                "\r\n",
                "\r\n",
                "\r\n",
                "-- Add more rows here\r\n",
                "GO"
            ],
            "metadata": {
                "azdata_cell_guid": "2ca9e35e-2bca-471a-83ce-7208b7b65a7e",
                "tags": [
                    "hide_input"
                ]
            },
            "outputs": [
                {
                    "output_type": "display_data",
                    "data": {
                        "text/html": "Commands completed successfully."
                    },
                    "metadata": {}
                },
                {
                    "output_type": "display_data",
                    "data": {
                        "text/html": "Commands completed successfully."
                    },
                    "metadata": {}
                },
                {
                    "output_type": "display_data",
                    "data": {
                        "text/html": "(8 rows affected)"
                    },
                    "metadata": {}
                },
                {
                    "output_type": "display_data",
                    "data": {
                        "text/html": "Total execution time: 00:00:00.024"
                    },
                    "metadata": {}
                }
            ],
            "execution_count": 211
        },
        {
            "cell_type": "code",
            "source": [
                "-- Create a new table called '[Candidate]' in schema '[Election]'\r\n",
                "-- Drop the table if it already exists\r\n",
                "IF OBJECT_ID('[Election].[Candidate]', 'U') IS NOT NULL\r\n",
                "DROP TABLE [Election].[Candidate]\r\n",
                "GO\r\n",
                "-- Create the table in the specified schema\r\n",
                "CREATE TABLE [Election].[Candidate]\r\n",
                "(\r\n",
                "    [Id] INT NOT NULL IDENTITY(1,1) PRIMARY KEY, -- Primary Key column\r\n",
                "    [Name] NVARCHAR(50) NOT NULL,\r\n",
                "    [PartyId] INT NOT NULL,\r\n",
                "    [DateOfBirth] DATE NOT NULL,\r\n",
                "\r\n",
                "    CONSTRAINT [FK_Party_Candidate] FOREIGN KEY ([PartyId])  REFERENCES [Election].[Party]([Id])\r\n",
                ");\r\n",
                "GO"
            ],
            "metadata": {
                "azdata_cell_guid": "a38fa49e-01f3-4bf8-8d04-cd5728f4a6fe",
                "tags": []
            },
            "outputs": [
                {
                    "output_type": "display_data",
                    "data": {
                        "text/html": "Commands completed successfully."
                    },
                    "metadata": {}
                },
                {
                    "output_type": "display_data",
                    "data": {
                        "text/html": "Commands completed successfully."
                    },
                    "metadata": {}
                },
                {
                    "output_type": "display_data",
                    "data": {
                        "text/html": "Total execution time: 00:00:00.011"
                    },
                    "metadata": {}
                }
            ],
            "execution_count": 212
        },
        {
            "cell_type": "code",
            "source": [
                "-- Create a new table called '[Result]' in schema '[Election]'\r\n",
                "-- Drop the table if it already exists\r\n",
                "IF OBJECT_ID('[Election].[Result]', 'U') IS NOT NULL\r\n",
                "DROP TABLE [Election].[Result]\r\n",
                "GO\r\n",
                "-- Create the table in the specified schema\r\n",
                "CREATE TABLE [Election].[Result]\r\n",
                "(\r\n",
                "    [Id] UNIQUEIDENTIFIER DEFAULT NEWID() PRIMARY KEY, -- Primary Key column\r\n",
                "    [RaceId] UNIQUEIDENTIFIER NOT NULL,\r\n",
                "    [CandidateId] INT NOT NULL,\r\n",
                "    [NumberOfVotesRecieved] INT NOT NULL,\r\n",
                "    [Source] NVARCHAR(255) NOT NULL,\r\n",
                "\r\n",
                "    CONSTRAINT [FK_Race_Result] FOREIGN KEY ([RaceId])  REFERENCES [Election].[Race]([Id]),\r\n",
                "    CONSTRAINT [FK_Candidate_Result] FOREIGN KEY ([CandidateId])  REFERENCES [Election].[Candidate]([Id])\r\n",
                ");\r\n",
                "GO"
            ],
            "metadata": {
                "azdata_cell_guid": "7da7b784-b460-4ba4-9a45-ab19d04044bb",
                "tags": [
                    "hide_input"
                ]
            },
            "outputs": [
                {
                    "output_type": "display_data",
                    "data": {
                        "text/html": "Commands completed successfully."
                    },
                    "metadata": {}
                },
                {
                    "output_type": "display_data",
                    "data": {
                        "text/html": "Commands completed successfully."
                    },
                    "metadata": {}
                },
                {
                    "output_type": "display_data",
                    "data": {
                        "text/html": "Total execution time: 00:00:00.011"
                    },
                    "metadata": {}
                }
            ],
            "execution_count": 213
        }
    ]
}