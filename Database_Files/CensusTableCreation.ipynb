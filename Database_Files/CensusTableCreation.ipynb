{
    "metadata": {
        "kernelspec": {
            "name": "SQL",
            "display_name": "SQL",
            "language": "sql"
        },
        "language_info": {
            "name": "sql",
            "version": ""
        }
    },
    "nbformat_minor": 2,
    "nbformat": 4,
    "cells": [
        {
            "cell_type": "code",
            "source": [
                "-- CREATE SCHEMA [Census];\r\n",
                "-- GO"
            ],
            "metadata": {
                "azdata_cell_guid": "2310c206-e78f-4961-8e08-36e5f33c6519",
                "tags": []
            },
            "outputs": [],
            "execution_count": null
        },
        {
            "cell_type": "code",
            "source": [
                "-- Create a new table called '[Block_Population_Time]' in schema '[Census]'\r\n",
                "-- Drop the table if it already exists\r\n",
                "IF OBJECT_ID('[Census].[Block_Population_Time]', 'U') IS NOT NULL\r\n",
                "DROP TABLE [Census].[Block_Population_Time]\r\n",
                "GO\r\n",
                "-- Create the table in the specified schema\r\n",
                "CREATE TABLE [Census].[Block_Population_Time]\r\n",
                "(\r\n",
                "    [Id] UNIQUEIDENTIFIER DEFAULT NEWID() PRIMARY KEY,\r\n",
                "    [BlockId] nvarchar(50) NOT NULL, -- Primary Key column\r\n",
                "    [ReportingDate] DATE NOT NULL,\r\n",
                "    [Population] INT NOT NULL,\r\n",
                "    -- Specify more columns here\r\n",
                ");\r\n",
                "GO"
            ],
            "metadata": {
                "azdata_cell_guid": "d503fb2f-72b6-4519-b1d4-5ea9a8ffc962"
            },
            "outputs": [
                {
                    "output_type": "display_data",
                    "data": {
                        "text/html": "Commands completed successfully."
                    },
                    "metadata": {}
                },
                {
                    "output_type": "display_data",
                    "data": {
                        "text/html": "Commands completed successfully."
                    },
                    "metadata": {}
                },
                {
                    "output_type": "display_data",
                    "data": {
                        "text/html": "Total execution time: 00:00:00.030"
                    },
                    "metadata": {}
                }
            ],
            "execution_count": 1
        }
    ]
}