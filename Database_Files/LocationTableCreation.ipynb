{
    "metadata": {
        "kernelspec": {
            "name": "SQL",
            "display_name": "SQL",
            "language": "sql"
        },
        "language_info": {
            "name": "sql",
            "version": ""
        }
    },
    "nbformat_minor": 2,
    "nbformat": 4,
    "cells": [
        {
            "cell_type": "code",
            "source": [
                "-- CREATE SCHEMA [Location];\r\n",
                "-- GO"
            ],
            "metadata": {
                "azdata_cell_guid": "ad84ac25-1db5-4023-b96c-853ece8ffc05",
                "tags": [
                    "hide_input"
                ]
            },
            "outputs": [
                {
                    "output_type": "display_data",
                    "data": {
                        "text/html": "Commands completed successfully."
                    },
                    "metadata": {}
                },
                {
                    "output_type": "display_data",
                    "data": {
                        "text/html": "Total execution time: 00:00:00.001"
                    },
                    "metadata": {}
                }
            ],
            "execution_count": 163
        },
        {
            "cell_type": "code",
            "source": [
                "-- Create a new table called '[Block]' in schema '[Location]'\r\n",
                "-- Drop the table if it already exists\r\n",
                "IF OBJECT_ID('[Location].[Block]', 'U') IS NOT NULL\r\n",
                "DROP TABLE [Location].[Block]\r\n",
                "GO\r\n",
                "-- Create the table in the specified schema\r\n",
                "CREATE TABLE [Location].[Block]\r\n",
                "(\r\n",
                " [Id]          nvarchar(50) NOT NULL PRIMARY KEY,\r\n",
                " [Description] NVARCHAR(255) NOT NULL ,\r\n",
                " [Source]      NVARCHAR(255) NOT NULL ,\r\n",
                " [Coordinates] geometry NOT NULL ,\r\n",
                " [Border]      geometry NULL ,\r\n",
                "\r\n",
                "\r\n",
                ");\r\n",
                "GO\r\n",
                "\r\n",
                "EXEC sp_addextendedproperty @name = N'MS_Description', @value = N'Contains all of the state precincts as defined in the 2010 Census voting districts codes. This is the base unit for all data moving forward. It is possible that these districts have been different over time, we will attempt to make everything fit into this definition.', @level0type = N'SCHEMA', @level0name = N'Location', @level1type = N'TABLE', @level1name = N'Block';\r\n",
                "GO"
            ],
            "metadata": {
                "azdata_cell_guid": "4cded13f-42aa-45dd-b484-48a7e4f65d7e",
                "tags": [
                    "hide_input"
                ]
            },
            "outputs": [
                {
                    "output_type": "display_data",
                    "data": {
                        "text/html": "Commands completed successfully."
                    },
                    "metadata": {}
                },
                {
                    "output_type": "display_data",
                    "data": {
                        "text/html": "Commands completed successfully."
                    },
                    "metadata": {}
                },
                {
                    "output_type": "display_data",
                    "data": {
                        "text/html": "Commands completed successfully."
                    },
                    "metadata": {}
                },
                {
                    "output_type": "display_data",
                    "data": {
                        "text/html": "Total execution time: 00:00:00.011"
                    },
                    "metadata": {}
                }
            ],
            "execution_count": 164
        },
        {
            "cell_type": "code",
            "source": [
                "-- Create a new table called '[CountyType]' in schema '[Location]'\r\n",
                "-- Drop the table if it already exists\r\n",
                "IF OBJECT_ID('[Location].[CountyType]', 'U') IS NOT NULL\r\n",
                "DROP TABLE [Location].[CountyType]\r\n",
                "GO\r\n",
                "-- Create the table in the specified schema\r\n",
                "CREATE TABLE [Location].[CountyType]\r\n",
                "(\r\n",
                "    [Id] INT IDENTITY(1,1) PRIMARY KEY, -- Primary Key column\r\n",
                "    [Description] NVARCHAR(50) NOT NULL,\r\n",
                ");\r\n",
                "GO"
            ],
            "metadata": {
                "azdata_cell_guid": "1fe21c2f-dbe4-4b5e-b282-0ebf9d093b66",
                "tags": [
                    "hide_input"
                ]
            },
            "outputs": [
                {
                    "output_type": "display_data",
                    "data": {
                        "text/html": "Commands completed successfully."
                    },
                    "metadata": {}
                },
                {
                    "output_type": "display_data",
                    "data": {
                        "text/html": "Commands completed successfully."
                    },
                    "metadata": {}
                },
                {
                    "output_type": "display_data",
                    "data": {
                        "text/html": "Total execution time: 00:00:00.022"
                    },
                    "metadata": {}
                }
            ],
            "execution_count": 165
        },
        {
            "cell_type": "code",
            "source": [
                "-- Create a new table called '[County]' in schema '[Location]'\r\n",
                "-- Drop the table if it already exists\r\n",
                "IF OBJECT_ID('[Location].[County]', 'U') IS NOT NULL\r\n",
                "DROP TABLE [Location].[County]\r\n",
                "GO\r\n",
                "-- Create the table in the specified schema\r\n",
                "CREATE TABLE [Location].[County]\r\n",
                "(\r\n",
                "    [Id] nvarchar(50) NOT NULL PRIMARY KEY,\r\n",
                "    [Description] NVARCHAR(255) NOT NULL ,\r\n",
                "    [Source] text NOT NULL ,\r\n",
                "    [Border] geometry NULL ,\r\n",
                "\r\n",
                ");\r\n",
                "GO"
            ],
            "metadata": {
                "azdata_cell_guid": "0d4f2804-cf23-4721-848b-f22e447c0f38",
                "tags": []
            },
            "outputs": [
                {
                    "output_type": "display_data",
                    "data": {
                        "text/html": "Commands completed successfully."
                    },
                    "metadata": {}
                },
                {
                    "output_type": "display_data",
                    "data": {
                        "text/html": "Commands completed successfully."
                    },
                    "metadata": {}
                },
                {
                    "output_type": "display_data",
                    "data": {
                        "text/html": "Total execution time: 00:00:00.013"
                    },
                    "metadata": {}
                }
            ],
            "execution_count": 166
        },
        {
            "cell_type": "code",
            "source": [
                "-- Create a new table called '[StateType]' in schema '[Location]'\r\n",
                "-- Drop the table if it already exists\r\n",
                "IF OBJECT_ID('[Location].[StateType]', 'U') IS NOT NULL\r\n",
                "DROP TABLE [Location].[StateType]\r\n",
                "GO\r\n",
                "-- Create the table in the specified schema\r\n",
                "CREATE TABLE [Location].[StateType]\r\n",
                "(\r\n",
                "    [Id] INT IDENTITY(1,1) PRIMARY KEY , -- Primary Key column\r\n",
                "    [Description] NVARCHAR(50) NOT NULL,\r\n",
                ");\r\n",
                "GO"
            ],
            "metadata": {
                "azdata_cell_guid": "9b7c31a7-950c-4812-90e1-0eb663383961",
                "tags": [
                    "hide_input"
                ]
            },
            "outputs": [
                {
                    "output_type": "display_data",
                    "data": {
                        "text/html": "Commands completed successfully."
                    },
                    "metadata": {}
                },
                {
                    "output_type": "display_data",
                    "data": {
                        "text/html": "Commands completed successfully."
                    },
                    "metadata": {}
                },
                {
                    "output_type": "display_data",
                    "data": {
                        "text/html": "Total execution time: 00:00:00.016"
                    },
                    "metadata": {}
                }
            ],
            "execution_count": 167
        },
        {
            "cell_type": "code",
            "source": [
                "-- Create a new table called '[State]' in schema '[Location]'\r\n",
                "-- Drop the table if it already exists\r\n",
                "IF OBJECT_ID('[Location].[State]', 'U') IS NOT NULL\r\n",
                "DROP TABLE [Location].[State]\r\n",
                "GO\r\n",
                "-- Create the table in the specified schema\r\n",
                "CREATE TABLE [Location].[State]\r\n",
                "(\r\n",
                "    [Id] INT NOT NULL PRIMARY KEY, -- Primary Key column\r\n",
                "    [Name] NVARCHAR(50) NOT NULL,\r\n",
                "    [Abbreviation] NVARCHAR(2) NOT NULL,\r\n",
                "    [Source] text NOT NULL,\r\n",
                "    [StateTypeId] INT NOT NULL,\r\n",
                "    [CountyTypeId] INT NOT NULL,\r\n",
                "    [Border] GEOMETRY NULL,\r\n",
                "    \r\n",
                "    CONSTRAINT [FK_CountyType_State] FOREIGN KEY ([CountyTypeId])  REFERENCES [Location].[CountyType]([Id]),\r\n",
                "    CONSTRAINT [FK_StateType_State] FOREIGN KEY ([StateTypeId])  REFERENCES [Location].[StateType]([Id])\r\n",
                ");\r\n",
                "GO"
            ],
            "metadata": {
                "azdata_cell_guid": "82bfd7a8-865d-480a-8e69-3aea0964acf9",
                "tags": [
                    "hide_input"
                ]
            },
            "outputs": [
                {
                    "output_type": "display_data",
                    "data": {
                        "text/html": "Commands completed successfully."
                    },
                    "metadata": {}
                },
                {
                    "output_type": "display_data",
                    "data": {
                        "text/html": "Commands completed successfully."
                    },
                    "metadata": {}
                },
                {
                    "output_type": "display_data",
                    "data": {
                        "text/html": "Total execution time: 00:00:00.012"
                    },
                    "metadata": {}
                }
            ],
            "execution_count": 168
        },
        {
            "cell_type": "code",
            "source": [
                "-- Create a new table called '[State_Time]' in schema '[Location]'\r\n",
                "-- Drop the table if it already exists\r\n",
                "IF OBJECT_ID('[Location].[State_Time]', 'U') IS NOT NULL\r\n",
                "DROP TABLE [Location].[State_Time]\r\n",
                "GO\r\n",
                "-- Create the table in the specified schema\r\n",
                "CREATE TABLE [Location].[State_Time]\r\n",
                "(\r\n",
                "    [Id] UNIQUEIDENTIFIER DEFAULT NEWID() PRIMARY KEY,\r\n",
                "    [StateId] INT NOT NULL, -- Primary Key column\r\n",
                "    [TimeStart] DATE NOT NULL,\r\n",
                "    [TimeEnd] DATE NULL,\r\n",
                "    \r\n",
                "\r\n",
                "    CONSTRAINT [FK_StateTime_State] FOREIGN KEY ([StateId])  REFERENCES [Location].[State]([Id])\r\n",
                ");\r\n",
                "GO"
            ],
            "metadata": {
                "azdata_cell_guid": "fe592490-ef39-41b3-b69a-59096d5e527a",
                "tags": [
                    "hide_input"
                ]
            },
            "outputs": [
                {
                    "output_type": "display_data",
                    "data": {
                        "text/html": "Commands completed successfully."
                    },
                    "metadata": {}
                },
                {
                    "output_type": "display_data",
                    "data": {
                        "text/html": "Commands completed successfully."
                    },
                    "metadata": {}
                },
                {
                    "output_type": "display_data",
                    "data": {
                        "text/html": "Total execution time: 00:00:00.011"
                    },
                    "metadata": {}
                }
            ],
            "execution_count": 169
        },
        {
            "cell_type": "code",
            "source": [
                "-- Create a new table called '[County_Time]' in schema '[Location]'\r\n",
                "-- Drop the table if it already exists\r\n",
                "IF OBJECT_ID('[Location].[County_Time]', 'U') IS NOT NULL\r\n",
                "DROP TABLE [Location].[County_Time]\r\n",
                "GO\r\n",
                "-- Create the table in the specified schema\r\n",
                "CREATE TABLE [Location].[County_Time]\r\n",
                "(\r\n",
                "    [Id] UNIQUEIDENTIFIER DEFAULT NEWID() PRIMARY KEY,\r\n",
                "    [CountyId] nvarchar(50) NOT NULL, -- Primary Key column\r\n",
                "    [TimeStart] DATE NOT NULL,\r\n",
                "    [TimeEnd] DATE NULL,\r\n",
                "    [StateId] INT NOT NULL,\r\n",
                "\r\n",
                "    CONSTRAINT [FK_State_County_CountyId] FOREIGN KEY ([CountyId])  REFERENCES [Location].[County]([Id]),\r\n",
                "    CONSTRAINT [FK_State_County_StateId] FOREIGN KEY ([StateId])  REFERENCES [Location].[State]([Id])\r\n",
                ");\r\n",
                "GO"
            ],
            "metadata": {
                "azdata_cell_guid": "ca04be4e-a0d9-4807-912b-091de8160708",
                "tags": [
                    "hide_input"
                ]
            },
            "outputs": [
                {
                    "output_type": "display_data",
                    "data": {
                        "text/html": "Commands completed successfully."
                    },
                    "metadata": {}
                },
                {
                    "output_type": "display_data",
                    "data": {
                        "text/html": "Commands completed successfully."
                    },
                    "metadata": {}
                },
                {
                    "output_type": "display_data",
                    "data": {
                        "text/html": "Total execution time: 00:00:00.015"
                    },
                    "metadata": {}
                }
            ],
            "execution_count": 170
        },
        {
            "cell_type": "code",
            "source": [
                "-- Create a new table called '[Block_County_Time]' in schema '[Location]'\r\n",
                "-- Drop the table if it already exists\r\n",
                "IF OBJECT_ID('[Location].[Block_County_Time]', 'U') IS NOT NULL\r\n",
                "DROP TABLE [Location].[Block_County_Time]\r\n",
                "GO\r\n",
                "-- Create the table in the specified schema\r\n",
                "CREATE TABLE [Location].[Block_County_Time]\r\n",
                "(\r\n",
                "    [Id] UNIQUEIDENTIFIER DEFAULT NEWID() PRIMARY KEY,\r\n",
                "    [BlockId] nvarchar(50) NOT NULL, -- Primary Key column\r\n",
                "    [TimeStart] DATE NOT NULL,\r\n",
                "    [TimeEnd] DATE NULL,\r\n",
                "    [CountyId] nvarchar(50) NOT NULL\r\n",
                "\r\n",
                "    CONSTRAINT [FK_County_Block_BlockId] FOREIGN KEY ([BlockId])  REFERENCES [Location].[Block]([Id]),\r\n",
                "    CONSTRAINT [FK_County_Block_CountyId] FOREIGN KEY ([CountyId])  REFERENCES [Location].[County]([Id])\r\n",
                ");\r\n",
                "GO"
            ],
            "metadata": {
                "azdata_cell_guid": "b7451624-4a4f-4573-83f3-5ddc9a226e27",
                "tags": [
                    "hide_input"
                ]
            },
            "outputs": [
                {
                    "output_type": "display_data",
                    "data": {
                        "text/html": "Commands completed successfully."
                    },
                    "metadata": {}
                },
                {
                    "output_type": "display_data",
                    "data": {
                        "text/html": "Commands completed successfully."
                    },
                    "metadata": {}
                },
                {
                    "output_type": "display_data",
                    "data": {
                        "text/html": "Total execution time: 00:00:00.012"
                    },
                    "metadata": {}
                }
            ],
            "execution_count": 171
        },
        {
            "cell_type": "code",
            "source": [
                "-- Create a new table called '[DistrictType]' in schema '[Location]'\r\n",
                "-- Drop the table if it already exists\r\n",
                "IF OBJECT_ID('[Location].[DistrictType]', 'U') IS NOT NULL\r\n",
                "DROP TABLE [Location].[DistrictType]\r\n",
                "GO\r\n",
                "-- Create the table in the specified schema\r\n",
                "CREATE TABLE [Location].[DistrictType]\r\n",
                "(\r\n",
                "    [Id] INT IDENTITY(1,1) PRIMARY KEY , -- Primary Key column\r\n",
                "    [Description] NVARCHAR(50) NOT NULL,\r\n",
                "    [District_Type_Code] NVARCHAR(5) NOT NULL UNIQUE,\r\n",
                ");\r\n",
                "GO"
            ],
            "metadata": {
                "azdata_cell_guid": "4b68310c-639e-4def-9508-b60d2ac86e5a",
                "tags": [
                    "hide_input"
                ]
            },
            "outputs": [
                {
                    "output_type": "display_data",
                    "data": {
                        "text/html": "Commands completed successfully."
                    },
                    "metadata": {}
                },
                {
                    "output_type": "display_data",
                    "data": {
                        "text/html": "Commands completed successfully."
                    },
                    "metadata": {}
                },
                {
                    "output_type": "display_data",
                    "data": {
                        "text/html": "Total execution time: 00:00:00.012"
                    },
                    "metadata": {}
                }
            ],
            "execution_count": 172
        },
        {
            "cell_type": "code",
            "source": [
                "-- Create a new table called '[District]' in schema '[Location]'\r\n",
                "-- Drop the table if it already exists\r\n",
                "IF OBJECT_ID('[Location].[District]', 'U') IS NOT NULL\r\n",
                "DROP TABLE [Location].[District]\r\n",
                "GO\r\n",
                "-- Create the table in the specified schema\r\n",
                "CREATE TABLE [Location].[District]\r\n",
                "(\r\n",
                "    [Id] nvarchar(50) NOT NULL PRIMARY KEY,\r\n",
                "    [Description] text NOT NULL ,\r\n",
                "    [Source] text NOT NULL ,\r\n",
                "    [DistrictTypeId] INT NOT NULL,\r\n",
                "    [Border] geometry NULL ,\r\n",
                "\r\n",
                "\r\n",
                "    CONSTRAINT [FK_DistrictType_District] FOREIGN KEY ([DistrictTypeId])  REFERENCES [Location].[DistrictType]([Id])\r\n",
                ");\r\n",
                "GO"
            ],
            "metadata": {
                "azdata_cell_guid": "fd4feb3e-22b4-4c97-bd12-6381e1ee57ed",
                "tags": [
                    "hide_input"
                ]
            },
            "outputs": [
                {
                    "output_type": "display_data",
                    "data": {
                        "text/html": "Commands completed successfully."
                    },
                    "metadata": {}
                },
                {
                    "output_type": "display_data",
                    "data": {
                        "text/html": "Commands completed successfully."
                    },
                    "metadata": {}
                },
                {
                    "output_type": "display_data",
                    "data": {
                        "text/html": "Total execution time: 00:00:00.017"
                    },
                    "metadata": {}
                }
            ],
            "execution_count": 173
        },
        {
            "cell_type": "code",
            "source": [
                "-- Create a new table called '[District_Time]' in schema '[Location]'\r\n",
                "-- Drop the table if it already exists\r\n",
                "IF OBJECT_ID('[Location].[District_Time]', 'U') IS NOT NULL\r\n",
                "DROP TABLE [Location].[District_Time]\r\n",
                "GO\r\n",
                "-- Create the table in the specified schema\r\n",
                "CREATE TABLE [Location].[District_Time]\r\n",
                "(\r\n",
                "    [Id] UNIQUEIDENTIFIER DEFAULT NEWID() PRIMARY KEY,\r\n",
                "    [DistrictId] nvarchar(50) NOT NULL,\r\n",
                "    [TimeStart] DATE NOT NULL,\r\n",
                "    [TimeEnd] DATE NULL\r\n",
                "\r\n",
                "    CONSTRAINT [FK_DistrictTime_District] FOREIGN KEY ([DistrictId])  REFERENCES [Location].[District]([Id])\r\n",
                ");\r\n",
                "GO"
            ],
            "metadata": {
                "azdata_cell_guid": "ee098879-b6bc-449b-8534-461e4d7f8767",
                "tags": [
                    "hide_input"
                ]
            },
            "outputs": [
                {
                    "output_type": "display_data",
                    "data": {
                        "text/html": "Commands completed successfully."
                    },
                    "metadata": {}
                },
                {
                    "output_type": "display_data",
                    "data": {
                        "text/html": "Commands completed successfully."
                    },
                    "metadata": {}
                },
                {
                    "output_type": "display_data",
                    "data": {
                        "text/html": "Total execution time: 00:00:00.026"
                    },
                    "metadata": {}
                }
            ],
            "execution_count": 174
        },
        {
            "cell_type": "code",
            "source": [
                "-- Create a new table called '[Block_District_Time]' in schema '[Location]'\r\n",
                "-- Drop the table if it already exists\r\n",
                "IF OBJECT_ID('[Location].[Block_District_Time]', 'U') IS NOT NULL\r\n",
                "DROP TABLE [Location].[Block_District_Time]\r\n",
                "GO\r\n",
                "-- Create the table in the specified schema\r\n",
                "CREATE TABLE [Location].[Block_District_Time]\r\n",
                "(\r\n",
                "    [Id] UNIQUEIDENTIFIER DEFAULT NEWID() PRIMARY KEY,\r\n",
                "    [BlockId] nvarchar(50) NOT NULL, -- Primary Key column\r\n",
                "    [TimeStart] DATE NOT NULL,\r\n",
                "    [TimeEnd] DATE NULL,\r\n",
                "    [DistrictId] nvarchar(50) NOT NULL\r\n",
                "\r\n",
                "    CONSTRAINT [FK_District_Block_BlockId] FOREIGN KEY ([BlockId])  REFERENCES [Location].[Block]([Id]),\r\n",
                "    CONSTRAINT [FK_District_Block_DistrictId] FOREIGN KEY ([DistrictId])  REFERENCES [Location].[District]([Id])\r\n",
                ");\r\n",
                "GO"
            ],
            "metadata": {
                "azdata_cell_guid": "7d03048e-4742-47dc-b54c-7b314c9ed355",
                "tags": [
                    "hide_input"
                ]
            },
            "outputs": [
                {
                    "output_type": "display_data",
                    "data": {
                        "text/html": "Commands completed successfully."
                    },
                    "metadata": {}
                },
                {
                    "output_type": "display_data",
                    "data": {
                        "text/html": "Commands completed successfully."
                    },
                    "metadata": {}
                },
                {
                    "output_type": "display_data",
                    "data": {
                        "text/html": "Total execution time: 00:00:00.010"
                    },
                    "metadata": {}
                }
            ],
            "execution_count": 175
        },
        {
            "cell_type": "code",
            "source": [
                "--Populate the [Location].State_Type table\r\n",
                "-- Insert rows into table 'State_Type' in schema '[Location]'\r\n",
                "INSERT INTO [Location].[StateType]\r\n",
                "( -- Columns to insert data into\r\n",
                " [Description]\r\n",
                ")\r\n",
                "VALUES\r\n",
                "( -- First row: values for the columns in the list above\r\n",
                " 'State'\r\n",
                "),\r\n",
                "( -- Second row: values for the columns in the list above\r\n",
                " 'Outlying area under U.S. sovereignty'\r\n",
                "),\r\n",
                "(\r\n",
                " 'Minor outlying island territory'\r\n",
                "),\r\n",
                "(\r\n",
                "    'Federal district'\r\n",
                "),\r\n",
                "(\r\n",
                "    'Freely Associated State'\r\n",
                ")\r\n",
                "\r\n",
                "-- Add more rows here\r\n",
                "GO"
            ],
            "metadata": {
                "azdata_cell_guid": "8d8c3a75-84e0-4c34-931a-e2a82b352e81",
                "tags": [
                    "hide_input"
                ]
            },
            "outputs": [
                {
                    "output_type": "display_data",
                    "data": {
                        "text/html": "(5 rows affected)"
                    },
                    "metadata": {}
                },
                {
                    "output_type": "display_data",
                    "data": {
                        "text/html": "Total execution time: 00:00:00.022"
                    },
                    "metadata": {}
                }
            ],
            "execution_count": 176
        },
        {
            "cell_type": "code",
            "source": [
                "--Populate the [Location].DistrictType table\r\n",
                "-- Insert rows into table 'DistrictType' in schema '[Location]'\r\n",
                "INSERT INTO [Location].[DistrictType]\r\n",
                "( -- Columns to insert data into\r\n",
                " [Description],[District_Type_Code]\r\n",
                ")\r\n",
                "VALUES\r\n",
                "( -- First row: values for the columns in the list above\r\n",
                " 'Congressional','CD'\r\n",
                "),\r\n",
                "( -- Second row: values for the columns in the list above\r\n",
                " 'State Lower House','SLDL'\r\n",
                "),\r\n",
                "(\r\n",
                " 'State Upper House','SLDU'\r\n",
                ")\r\n",
                "-- Add more rows here\r\n",
                "GO"
            ],
            "metadata": {
                "azdata_cell_guid": "323229ff-2157-4c89-9bd2-e05c853bfa1d",
                "tags": [
                    "hide_input"
                ]
            },
            "outputs": [
                {
                    "output_type": "display_data",
                    "data": {
                        "text/html": "(3 rows affected)"
                    },
                    "metadata": {}
                },
                {
                    "output_type": "display_data",
                    "data": {
                        "text/html": "Total execution time: 00:00:00.023"
                    },
                    "metadata": {}
                }
            ],
            "execution_count": 177
        },
        {
            "cell_type": "code",
            "source": [
                "--Populate the [Location].CountyType table\r\n",
                "-- Insert rows into table 'CountyType' in schema '[Location]'\r\n",
                "INSERT INTO [Location].[CountyType]\r\n",
                "( -- Columns to insert data into\r\n",
                " [Description]\r\n",
                ")\r\n",
                "VALUES\r\n",
                "( -- First row: values for the columns in the list above\r\n",
                " 'County'\r\n",
                "),\r\n",
                "( -- Second row: values for the columns in the list above\r\n",
                " 'Borough'\r\n",
                "),\r\n",
                "(\r\n",
                " 'Parish'\r\n",
                "),\r\n",
                "(\r\n",
                " 'County Equivalent'\r\n",
                ")\r\n",
                "-- Add more rows here\r\n",
                "GO\r\n",
                "\r\n",
                "\r\n",
                ""
            ],
            "metadata": {
                "azdata_cell_guid": "135dc1a2-e1a3-4ed0-a223-c0e695d5658a",
                "tags": [
                    "hide_input"
                ]
            },
            "outputs": [
                {
                    "output_type": "display_data",
                    "data": {
                        "text/html": "(4 rows affected)"
                    },
                    "metadata": {}
                },
                {
                    "output_type": "display_data",
                    "data": {
                        "text/html": "Total execution time: 00:00:00.008"
                    },
                    "metadata": {}
                }
            ],
            "execution_count": 178
        }
    ]
}